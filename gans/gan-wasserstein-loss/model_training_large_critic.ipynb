{
 "cells": [
  {
   "cell_type": "markdown",
   "id": "2e16b874",
   "metadata": {},
   "source": [
    "Since the critic is much larger than in previous version, it needs to be trained slower to avoid generator training issues. "
   ]
  },
  {
   "cell_type": "code",
   "execution_count": null,
   "id": "b41d5fcd",
   "metadata": {},
   "outputs": [],
   "source": [
    "from tensorflow.keras import datasets, callbacks, optimizers\n",
    "\n",
    "from model import WassersteinGANGradientPenalty, build_discriminator_large, build_generator_large\n",
    "from custom_callbacks import ImageGenerator\n",
    "from prepare_data import prepare_fashion_mnist_data\n",
    "\n",
    "import logging\n",
    "logging.basicConfig(\n",
    "    level=logging.INFO, format=\"[%(asctime)s][%(levelname)s] %(message)s\"\n",
    ")\n",
    "\n",
    "\n",
    "N_Z = 64\n",
    "GP_WEIGHT = 10\n",
    "LEARNING_RATE_G = 0.0001\n",
    "LEARNING_RATE_D = 0.0001\n",
    "ADAM_BETA_1 = 0.5\n",
    "EPOCHS = 400\n",
    "BATCH_SIZE = 512\n",
    "\n",
    "\n",
    "logging.info(\"Preparing the data...\")\n",
    "x_train, x_test = prepare_fashion_mnist_data()\n",
    "\n",
    "logging.info(\"Build generator...\")\n",
    "generator = build_generator_large(N_Z)\n",
    "\n",
    "logging.info(\"Build discriminator...\")\n",
    "discriminator = build_discriminator_large()\n",
    "\n",
    "logging.info(\"Build GAN...\")\n",
    "gan = WassersteinGANGradientPenalty(\n",
    "    critic=discriminator, generator=generator, latent_dim=N_Z, gp_weight=GP_WEIGHT)\n",
    "\n",
    "gan.compile(\n",
    "    c_optimizer=optimizers.RMSprop(\n",
    "        learning_rate=LEARNING_RATE_D\n",
    "    ),\n",
    "    g_optimizer=optimizers.Adam(\n",
    "        learning_rate=LEARNING_RATE_G, beta_1=ADAM_BETA_1\n",
    "    ),\n",
    ")\n",
    "\n",
    "\n",
    "model_checkpoint_callback = callbacks.ModelCheckpoint(\n",
    "    filepath=\"./checkpoint/checkpoint.ckpt\",\n",
    "    save_weights_only=True,\n",
    "    save_freq=\"epoch\",\n",
    "    verbose=0,\n",
    ")\n",
    "tensorboard_callback = callbacks.TensorBoard(log_dir=\"./logs\")\n",
    "\n",
    "logging.info(\"Fit GAN...\")\n",
    "gan.fit(\n",
    "    x_train,\n",
    "    epochs=EPOCHS,\n",
    "    batch_size=BATCH_SIZE,\n",
    "    callbacks=[\n",
    "        model_checkpoint_callback,\n",
    "        tensorboard_callback,\n",
    "        ImageGenerator(num_img=10, latent_dim=N_Z),\n",
    "    ],\n",
    ")\n"
   ]
  }
 ],
 "metadata": {
  "kernelspec": {
   "display_name": "Python 3 (ipykernel)",
   "language": "python",
   "name": "python3"
  },
  "language_info": {
   "codemirror_mode": {
    "name": "ipython",
    "version": 3
   },
   "file_extension": ".py",
   "mimetype": "text/x-python",
   "name": "python",
   "nbconvert_exporter": "python",
   "pygments_lexer": "ipython3",
   "version": "3.9.17"
  }
 },
 "nbformat": 4,
 "nbformat_minor": 5
}
